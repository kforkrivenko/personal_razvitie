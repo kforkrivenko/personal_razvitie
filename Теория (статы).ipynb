{
 "cells": [
  {
   "cell_type": "markdown",
   "id": "05d7625e-c319-46bd-8780-b0afdbd693a7",
   "metadata": {},
   "source": [
    "## Темы\n",
    "1. Оценки параметра\n",
    "2. Доверительный интервал\n",
    "3. Теоремы\n",
    "4. Основы статистики"
   ]
  },
  {
   "cell_type": "markdown",
   "id": "5edd144b-f8f8-444d-b99f-ee9747c5f3ff",
   "metadata": {},
   "source": [
    "### Оценки параметра\n",
    "\n",
    "$ \\hat{\\theta} = \\hat{\\theta} \\Bigl( \\{ X_i \\} \\Bigr) $\n",
    "\n",
    "1. Несмещенность:\n",
    "$ E[\\hat{\\theta}] = \\theta $\n",
    "\n",
    "2. Состоятельность:\n",
    "$ \\hat{\\theta} \\overset{P}{\\rightarrow} \\theta $\n",
    "\n",
    "3. Ассимптотическая несмещенность:\n",
    "$ E[\\hat{\\theta}] \\rightarrow \\theta $\n",
    "\n",
    "Сравнение оценок (эффективность):\n",
    "\n",
    "Оценка эффективнее, если ее дисперсия меньше.\n",
    "\n",
    "#### Bias-variance decomposition\n",
    "\n",
    "MSE: $ E[(\\hat{\\theta} - \\theta)^2] = D[\\hat{\\theta}] + bias^2(\\hat{\\theta})$\n",
    "\n",
    "Таким образом можно делать трейдоф между дисперсией и смещением.\n",
    "\n",
    "<img src=\"images/var-bias-tradeoff.png\" alt=\"images/var-bias-tradeoff.png\" width=\"400\" height=\"300\">"
   ]
  },
  {
   "cell_type": "markdown",
   "id": "f3658549-aa21-4a27-b50a-d70937fb113c",
   "metadata": {},
   "source": [
    "### Доверительный интервал для одной выборки\n",
    "\n",
    "1. Предсказательный интервал\n",
    "\n",
    "$ X \\sim F(x):  P \\Bigl( X_{\\alpha/2} \\leq X \\leq X_{1 - \\alpha/2} \\Bigr) = 1 - \\alpha$\n",
    "\n",
    "Пример $\\Bigl( X \\sim N(\\mu, \\sigma^2) \\Bigr)$: $ P(\\mu - z_{1 - \\alpha/2} \\cdot \\sigma \\leq X \\leq \\mu + z_{1 - \\alpha/2} \\cdot \\sigma) = 1 - \\alpha $\n",
    "\n",
    "$ z_{x} $ это плотность распределения $ N(0, 1) $ \n",
    "\n",
    "Границы предсказательного интервала - константы. \n",
    "\n",
    "2. Доверительный интервал\n",
    "\n",
    "Определение: $ [ \\theta_L; \\theta_U ] $ - доверительный интервал уровня значимости $\\alpha$, если \n",
    "\n",
    "$ P \\Bigl( \\theta_L \\leq X \\leq \\theta_U \\Bigr) = 1 - \\alpha $\n",
    "\n",
    "Границы доверительного интервала - случайные величины, порожденные выборкой $ \\{ X_i \\}$\n",
    "\n",
    "3. Ассимптотический доверительный интервал для среднего\n",
    "\n",
    "Можно воспользоваться ЦПТ (можно использовать при достаточно большом n): \n",
    "\n",
    "$ \\overline{x} \\rightarrow N \\Bigl( \\mu, \\frac{\\sigma^2}{n} \\Bigr) $ (сходимость по распределению)\n",
    "\n",
    "$ \\frac{\\overline{x} - \\mu}{\\frac{\\sigma}{\\sqrt{n}}} \\rightarrow N \\Bigl( 0, 1 \\Bigr) $\n",
    "\n",
    "Строим предсказательный интервал:\n",
    "\n",
    "$ P \\Bigl( -z_{1 - \\alpha/2} \\leq \\frac{\\overline{x} - \\mu}{\\frac{\\sigma}{\\sqrt{n}}} \\leq z_{1 - \\alpha/2} \\Bigr) $\n",
    "\n",
    "<img src=\"images/asimpt_int.png\" alt=\"images/asimpt_int.png\" width=\"400\" height=\"300\">\n",
    "\n",
    "Доверительный интервал: $ \\overline{x} - z_{1 - \\alpha/2} \\cdot \\frac{\\hat{\\sigma}}{\\sqrt{n}} \\leq \\mu \\leq \\overline{x} + z_{1 - \\alpha/2} \\cdot \\frac{\\hat{\\sigma}}{\\sqrt{n}} $\n",
    "\n",
    "**Почему заменили $\\sigma$ на $\\hat{\\sigma}$**:\n",
    "\n",
    "Потому что $\\hat{\\sigma}$ состоятельная оценка для $\\sigma$. То есть она сходится по вероятности. А сходимость по вероятности сильнее, чем сходимость по распределению.\n",
    "\n",
    "#### Дельта метод\n",
    "\n",
    "$ \\{ X_i \\} \\sim i.i.d, E[X_1] = \\mu, Var[X_1] = \\sigma^2 $ \n",
    "\n",
    "g(t) - дифференцируемая функция\n",
    "\n",
    "Тогда: $ g(\\overline{X}) \\sim N \\Bigl( g(\\mu), \\frac{\\sigma^2}{n} \\cdot g'(\\mu)^2 \\Bigr) $\n",
    "\n",
    "\n",
    "#### Разные способы построить точный доверительный интервал для нормальных выборок\n",
    "\n",
    "предпосылка: $ \\{ X_i \\} \\sim N(\\mu, \\sigma^2)$. Количество измерений достаточно мало, так что строим точный интервал, а не асимптотический\n",
    "\n",
    "1. Если известна дисперсия $\\sigma^2$, то ЦПТ можно и не пользоваться:\n",
    "\n",
    "$ \\hat{\\mu} = \\overline{x} = \\frac{X_1 + ... + X_n}{n} \\sim N(\\mu, \\sigma^2/n) $\n",
    "\n",
    "Доверительный интервал строится как выше.\n",
    "\n",
    "2. Если не известна дисперсия. В этом нам поможет распределение хи-квадрат и стьюдента.\n",
    "\n",
    "<img src=\"images/фишер.png\" alt=\"images/фишер.png\" width=\"300\" height=\"450\" align=\"left\">\n",
    "<img src=\"images/хи_квадрат.png\" alt=\"images/хи_квадрат.png\" width=\"300\" height=\"250\" align=\"left\">\n",
    "<img src=\"images/student.png\" alt=\"images/student.png\" width=\"300\" height=\"250\" >\n",
    "\n",
    "Тогда получим доверительный интервал, но уже через распределение Стьюдента:\n",
    "\n",
    "\n",
    "$ P\\Bigl( \\overline{x} - t_{1 - \\alpha/2} \\cdot \\frac{S}{\\sqrt{n}} \\leq \\mu \\leq \\overline{x} + t_{1 - \\alpha/2} \\cdot \\frac{S}{\\sqrt{n}} \\Bigr) $\n",
    "\n",
    "$S^2$ - несмещенная выборочная дисперсия\n",
    "\n",
    "<img src=\"images/пример_интервалы.png\" alt=\"images/пример_интервалы.png\" width=\"400\" height=\"450\">\n",
    "\n",
    "\n",
    "#### Доверительный интервал для разности средних\n",
    "\n",
    "1. **Ассимптотический (независимые выборки)**\n",
    "\n",
    "$ \\overline{x} \\overset{asymp}{\\sim} N\\Bigl( \\mu_x, \\frac{\\sigma_x^2}{n_x} \\Bigr) $ \n",
    "\n",
    "$ \\overline{y} \\overset{asymp}{\\sim} N\\Bigl( \\mu_y, \\frac{\\sigma_y^2}{n_y} \\Bigr) $ \n",
    "\n",
    "$ \\overline{x} - \\overline{y} \\overset{asymp}{\\sim} N\\Bigl( \\mu_x - \\mu_y, \\frac{\\sigma_y^2}{n_y} + \\frac{\\sigma_x^2}{n_x} \\Bigr) $ \n",
    "\n",
    "Получаем доверительный интервал:\n",
    "\n",
    "$ (\\overline{x} - \\overline{y}) \\pm z_{1 - \\alpha/2} \\cdot \\sqrt{ \\frac{\\sigma_x^2}{n_x} + \\frac{\\sigma_y^2}{n_y} } $\n",
    "\n",
    "2. **Точный (независимые выборки)**\n",
    "\n",
    "Предпосылка: $ \\{ X_i \\} \\sim N(\\mu_x, \\sigma_x^2), \\{ Y_i \\} \\sim N(\\mu_y, \\sigma_y^2) $\n",
    "\n",
    "1. Известны дисперсии\n",
    "\n",
    "$ \\frac{ \\overline{x} - \\overline{y} - (\\mu_x - \\mu_y)}{\\sqrt{\\frac{\\sigma_x^2}{n_x} + \\frac{\\sigma_y^2}{n_y}}} \\sim N(0, 1) $\n",
    "\n",
    "Мы знаем $\\sigma_x, \\sigma_y$, получаем точно такой же доверительный интервал (но в случае ассимптотики дисперсия это оценка)\n",
    "\n",
    "$ (\\overline{x} - \\overline{y}) \\pm z_{1 - \\alpha/2} \\cdot \\sqrt{ \\frac{\\sigma_x^2}{n_x} + \\frac{\\sigma_y^2}{n_y} } $\n",
    "\n",
    "2. Не известны дисперсии, но они равны ($ s_x, s_y $ - оценки по выборкам)\n",
    "\n",
    "$ \\frac{\\overline{x} - \\overline{y} - (\\mu_x - \\mu_y)}{\\sqrt{\\frac{s^2}{n_x} + \\frac{s^2}{n_y}}} \\sim t(n_x + n_y - 2) $, где\n",
    "$ s^2 = \\frac{(n_x - 1)s_x^2 + (n_y - 1)s_y^2}{n_x + n_y - 2} $\n",
    "\n",
    "3. Не известны дисперсии, не равны\n",
    "\n",
    "Точного решения тут нет, есть только приближение через распределение Уэлча. Еще одна предпосылка: для той выборке у которой больше значений должна быть больше дисперсия.\n",
    "\n",
    "$ \\frac{\\overline{x} - \\overline{y} - (\\mu_x - \\mu_y)}{\\sqrt{\\frac{s_x^2}{n_x} + \\frac{s_y^2}{n_y}}} \\sim t(\\nu) $\n",
    "\n",
    "Где t - распределение Стьюдента, $ \\nu = \\frac{(\\frac{s_x^2}{n_x} + \\frac{s_y^2}{n_y})^2}{\\frac{s_x^4}{n_x^2(n_x - 1)} + \\frac{s_y^4}{n_y^2(n_y - 1)}} $\n",
    "\n",
    "3. **Зависимые выборки**\n",
    "\n",
    "Предпосылка: $ \\{ X_1, ..., X_n \\} \\sim N(\\mu_X, \\sigma_X^2), \\{ Y_1, ..., Y_n \\} \\sim N(\\mu_Y, \\sigma_Y^2) $\n",
    "\n",
    "Можно свести к задаче с одной выборкой:\n",
    "\n",
    "$ d_i = X_i - Y_i, \\overline{x} - \\overline{y} = \\overline{x - y} $\n",
    "\n",
    "$ s^2 = \\frac{1}{n-1}\\sum_{i=1}^n (d_i - \\overline{d})^2$\n",
    "\n",
    "А далее используем распределение Стьюдента (для точного интервала)\n",
    "\n",
    "\n",
    "#### Доверительный интервал для дисперсии\n",
    "\n"
   ]
  },
  {
   "cell_type": "markdown",
   "id": "da5d92ec-924f-4e59-bc26-811f66fa2d6d",
   "metadata": {},
   "source": [
    "### Теоремы\n",
    "#### Центральная предельная теорема\n",
    "\n",
    "$ \\{ X_i \\} $ - i.i.d.  \n",
    "$ E[X_i] = \\mu, D[X_i] = \\sigma^2 $\n",
    "\n",
    "Тогда:\n",
    "\n",
    "$ \\frac{S_n - \\mu n}{\\sigma \\sqrt{n}} \\rightarrow N(0, 1), n \\rightarrow +\\infty$\n",
    "\n",
    "$ \\sqrt{n} \\frac{\\overline{X_n} - \\mu}{\\sigma} \\rightarrow N(0, 1)$ по распределению\n",
    "\n",
    "#### Закон больших чисел\n",
    "\n",
    "1. Слабый закон: $ \\overline{X_n} \\rightarrow \\mu $ по вероятности\n",
    "2. Усиленный закон: вероятность того, что все соотношения ниже выполняются стремится к 1 при $n \\rightarrow +\\infty$\n",
    "\n",
    "$ |\\overline{X_n} - \\mu_n| \\leq \\epsilon $\n",
    "\n",
    "$ |\\overline{X_{n+1}} - \\mu_{n+1}| \\leq \\epsilon $\n",
    "\n",
    "...\n"
   ]
  },
  {
   "cell_type": "markdown",
   "id": "038a5b9e-4b23-43d6-93f3-0380497cfee4",
   "metadata": {},
   "source": [
    "### Основы статистики\n",
    "\n",
    "$ D[X_i] = E[X_i^2] - E[X_i]^2 = \\rho_{X_i}^2 $\n",
    "\n",
    "$ cov(X, Y) = E[(E[X] - X)(E[Y] - Y)] $\n",
    "\n",
    "$ \\rho_{X, Y} = \\frac{cov(X, Y)}{\\sigma_X \\sigma_Y} $"
   ]
  },
  {
   "cell_type": "code",
   "execution_count": 43,
   "id": "b802080e-fa3f-42ef-9be6-fad1516d57d5",
   "metadata": {},
   "outputs": [],
   "source": [
    "from scipy.stats import binomtest, ttest_ind, norm"
   ]
  },
  {
   "cell_type": "markdown",
   "id": "7db05216-4aac-4cd4-a3f9-835fbd9feea4",
   "metadata": {},
   "source": [
    "### Статистические тесты\n",
    "\n",
    "1. Биномиальный тест\n",
    "\n",
    "$ H_0: \\pi = \\pi_0 $\n",
    "\n",
    "$ H_1: \\pi < \\pi_0 $\n",
    "\n",
    "$ Pr(X = k) = \\binom{n}{k} p (1 - p)^{n-k} $\n",
    "\n",
    "Проверяем, что $\\pi < \\pi_0$:\n",
    "\n",
    "p-value: $ p = \\sum_{i=0}^k Pr(X = i) = \\sum_{i=0}^k \\binom{n}{i} \\pi_0^i (1 - \\pi_0)^{n-i} $\n",
    "\n",
    "\n",
    "Пример:\n",
    "\n",
    "100к человек подаются на публикацию книги. 70к мужчин, 30к женщин. Опубликовали 150 мужчин, 100 женщин. Проверяем, что пол не влияет на публикацию.\n"
   ]
  },
  {
   "cell_type": "code",
   "execution_count": 36,
   "id": "11b68ad3-bfa6-43a2-adaf-412fe6d86d02",
   "metadata": {},
   "outputs": [
    {
     "data": {
      "text/plain": [
       "BinomTestResult(k=100, n=30000, alternative='two-sided', statistic=0.0033333333333333335, pvalue=0.005429978849012184)"
      ]
     },
     "execution_count": 36,
     "metadata": {},
     "output_type": "execute_result"
    }
   ],
   "source": [
    "binomtest(k=100, n=30000, p=250/100000)"
   ]
  },
  {
   "cell_type": "markdown",
   "id": "a58883ba-fe13-435b-8848-9b9cfcd8aad6",
   "metadata": {},
   "source": [
    "2. Т-тест\n",
    "\n",
    "Одновыборочный: $ t = \\frac{\\overline{X} - m}{\\sigma_x / \\sqrt{n}} $\n",
    "\n",
    "$ E[X] = m $\n",
    "\n",
    "Двухвыборочный: $ t = \\frac{\\overline{X_1} - \\overline{X_2}}{\\sqrt{\\frac{\\sigma_1^2}{n_1} + \\frac{\\sigma_2^2}{n_2}}} $"
   ]
  },
  {
   "cell_type": "code",
   "execution_count": 55,
   "id": "417048c8-5fb7-4e7d-9156-b568178e2265",
   "metadata": {},
   "outputs": [
    {
     "data": {
      "text/plain": [
       "TtestResult(statistic=np.float64(2.283528985094496), pvalue=np.float64(0.022503767385848642), df=np.float64(1998.0))"
      ]
     },
     "execution_count": 55,
     "metadata": {},
     "output_type": "execute_result"
    }
   ],
   "source": [
    "rvs1 = norm.rvs(loc=5, scale=10, size=1000, random_state=42)\n",
    "rvs2 = norm.rvs(loc=4, scale=10, size=1000, random_state=42)\n",
    "ttest_ind(rvs1, rvs2)"
   ]
  },
  {
   "cell_type": "markdown",
   "id": "ac722ab0-72c2-4b50-942e-a349dbe33d17",
   "metadata": {},
   "source": [
    "Ошибки первого и второго года\n",
    "\n",
    "Первого рода: $H_0$ - верная гипотеза, $H_1$ - предсказание\n",
    "\n",
    "Второго рода: $H_1$ - верная гипотеза, $H_0$ - предсказание\n",
    "\n",
    "Чувствительность — это доля пациентов, действительно имеющих заболевание среди тех, у кого тест был положительным. Это мера вероятности того, что любой случай болезни (состояния) будет идентифицирован с помощью теста.\n",
    "\n",
    "Специфичность — это доля людей, не имеющих заболевания среди всех, у кого тест оказался отрицательным. Это мера вероятности правильной идентификации людей, не имеющих болезни, с помощью теста."
   ]
  },
  {
   "cell_type": "markdown",
   "id": "072cb2dc-ea25-40f7-ad47-fddbff05ac38",
   "metadata": {},
   "source": [
    "Z-test\n",
    "\n",
    "$ S_{z} = \\frac{\\overline{X} - m}{\\sigma / \\sqrt{n}} $"
   ]
  },
  {
   "cell_type": "markdown",
   "id": "dcbe3ca6-b011-441b-b866-f120d74435c6",
   "metadata": {},
   "source": [
    "Выборы между Z-тестом и T-тестом\n",
    "Z-тест применяется, когда размер выборки больше 30. Благодаря центральной предельной теореме, распределение средних значений выборки приближается к нормальному распределению, что делает Z-тест приемлемым.\n",
    "\n",
    "T-тест используется при размере выборки меньше 30. При малых выборках распределение средних значений может сильно отличаться от нормального, что требует использования T-распределения.\n",
    "\n",
    "Z-тест требует, чтобы стандартное отклонение генеральной совокупности было известно.\n",
    "\n",
    "T-тест не требует знания стандартного отклонения генеральной совокупности; вместо этого используется стандартное отклонение выборки.\n",
    "\n",
    "Z-тест обычно используется для определения, отличается ли среднее значение выборки от известного среднего значения генеральной совокупности, или для сравнения средних двух различных генеральных совокупностей при известных стандартных отклонениях.\n",
    "\n",
    "T-тест применяется для сравнения средних значений двух групп, когда стандартное отклонение генеральной совокупности неизвестно. Существуют различные виды T-теста которые используются в зависимости от конкретной ситуации исследования."
   ]
  }
 ],
 "metadata": {
  "kernelspec": {
   "display_name": "Python 3 (ipykernel)",
   "language": "python",
   "name": "python3"
  },
  "language_info": {
   "codemirror_mode": {
    "name": "ipython",
    "version": 3
   },
   "file_extension": ".py",
   "mimetype": "text/x-python",
   "name": "python",
   "nbconvert_exporter": "python",
   "pygments_lexer": "ipython3",
   "version": "3.12.0"
  }
 },
 "nbformat": 4,
 "nbformat_minor": 5
}
