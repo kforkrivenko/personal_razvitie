{
 "cells": [
  {
   "cell_type": "markdown",
   "id": "da5d92ec-924f-4e59-bc26-811f66fa2d6d",
   "metadata": {},
   "source": [
    "### Центральная предельная теорема\n",
    "\n",
    "$ \\{ X_i \\} $ - i.i.d.  \n",
    "$ E[X_i] = \\mu, D[X_i] = \\sigma^2 $\n",
    "\n",
    "Тогда:\n",
    "\n",
    "$ \\frac{S_n - \\mu n}{\\sigma \\sqrt{n}} \\rightarrow N(0, 1), n \\rightarrow +\\infty$\n",
    "\n",
    "$ \\sqrt{n} \\frac{\\overline{X_n} - \\mu}{\\sigma} \\rightarrow N(0, 1)$ по распределению"
   ]
  },
  {
   "cell_type": "markdown",
   "id": "d44e2b50-c3a6-499c-8300-d12b2b8572b3",
   "metadata": {
    "jp-MarkdownHeadingCollapsed": true
   },
   "source": [
    "### Закон больших чисел\n",
    "\n",
    "1. Слабый закон: $ \\overline{X_n} \\rightarrow \\mu $ по вероятности\n",
    "2. Усиленный закон: вероятность того, что все соотношения ниже выполняются стремится к 1 при $n \\rightarrow +\\infty$\n",
    "\n",
    "$ |\\overline{X_n} - \\mu_n| \\leq \\epsilon $\n",
    "\n",
    "$ |\\overline{X_{n+1}} - \\mu_{n+1}| \\leq \\epsilon $\n",
    "\n",
    "..."
   ]
  },
  {
   "cell_type": "markdown",
   "id": "038a5b9e-4b23-43d6-93f3-0380497cfee4",
   "metadata": {},
   "source": [
    "### Основы статистики\n",
    "\n",
    "$ D[X_i] = E[X_i^2] - E[X_i]^2 = \\rho_{X_i}^2 $\n",
    "\n",
    "$ cov(X, Y) = E[(E[X] - X)(E[Y] - Y)] $\n",
    "\n",
    "$ \\rho_{X, Y} = \\frac{cov(X, Y)}{\\sigma_X \\sigma_Y} $"
   ]
  },
  {
   "cell_type": "code",
   "execution_count": 43,
   "id": "b802080e-fa3f-42ef-9be6-fad1516d57d5",
   "metadata": {},
   "outputs": [],
   "source": [
    "from scipy.stats import binomtest, ttest_ind, norm"
   ]
  },
  {
   "cell_type": "markdown",
   "id": "7db05216-4aac-4cd4-a3f9-835fbd9feea4",
   "metadata": {},
   "source": [
    "### Статистические тесты\n",
    "\n",
    "1. Биномиальный тест\n",
    "\n",
    "$ H_0: \\pi = \\pi_0 $\n",
    "\n",
    "$ H_1: \\pi < \\pi_0 $\n",
    "\n",
    "$ Pr(X = k) = \\binom{n}{k} p (1 - p)^{n-k} $\n",
    "\n",
    "Проверяем, что $\\pi < \\pi_0$:\n",
    "\n",
    "p-value: $ p = \\sum_{i=0}^k Pr(X = i) = \\sum_{i=0}^k \\binom{n}{i} \\pi_0^i (1 - \\pi_0)^{n-i} $\n",
    "\n",
    "\n",
    "Пример:\n",
    "\n",
    "100к человек подаются на публикацию книги. 70к мужчин, 30к женщин. Опубликовали 150 мужчин, 100 женщин. Проверяем, что пол не влияет на публикацию.\n"
   ]
  },
  {
   "cell_type": "code",
   "execution_count": 36,
   "id": "11b68ad3-bfa6-43a2-adaf-412fe6d86d02",
   "metadata": {},
   "outputs": [
    {
     "data": {
      "text/plain": [
       "BinomTestResult(k=100, n=30000, alternative='two-sided', statistic=0.0033333333333333335, pvalue=0.005429978849012184)"
      ]
     },
     "execution_count": 36,
     "metadata": {},
     "output_type": "execute_result"
    }
   ],
   "source": [
    "binomtest(k=100, n=30000, p=250/100000)"
   ]
  },
  {
   "cell_type": "markdown",
   "id": "a58883ba-fe13-435b-8848-9b9cfcd8aad6",
   "metadata": {},
   "source": [
    "2. Т-тест\n",
    "\n",
    "Одновыборочный: $ t = \\frac{\\overline{X} - m}{\\sigma_x / \\sqrt{n}} $\n",
    "\n",
    "$ E[X] = m $\n",
    "\n",
    "Двухвыборочный: $ t = \\frac{\\overline{X_1} - \\overline{X_2}}{\\sqrt{\\frac{\\sigma_1^2}{n_1} + \\frac{\\sigma_2^2}{n_2}}} $"
   ]
  },
  {
   "cell_type": "code",
   "execution_count": 55,
   "id": "417048c8-5fb7-4e7d-9156-b568178e2265",
   "metadata": {},
   "outputs": [
    {
     "data": {
      "text/plain": [
       "TtestResult(statistic=np.float64(2.283528985094496), pvalue=np.float64(0.022503767385848642), df=np.float64(1998.0))"
      ]
     },
     "execution_count": 55,
     "metadata": {},
     "output_type": "execute_result"
    }
   ],
   "source": [
    "rvs1 = norm.rvs(loc=5, scale=10, size=1000, random_state=42)\n",
    "rvs2 = norm.rvs(loc=4, scale=10, size=1000, random_state=42)\n",
    "ttest_ind(rvs1, rvs2)"
   ]
  },
  {
   "cell_type": "markdown",
   "id": "ac722ab0-72c2-4b50-942e-a349dbe33d17",
   "metadata": {},
   "source": [
    "Ошибки первого и второго года\n",
    "\n",
    "Первого рода: $H_0$ - верная гипотеза, $H_1$ - предсказание\n",
    "\n",
    "Второго рода: $H_1$ - верная гипотеза, $H_0$ - предсказание\n",
    "\n",
    "Чувствительность — это доля пациентов, действительно имеющих заболевание среди тех, у кого тест был положительным. Это мера вероятности того, что любой случай болезни (состояния) будет идентифицирован с помощью теста.\n",
    "\n",
    "Специфичность — это доля людей, не имеющих заболевания среди всех, у кого тест оказался отрицательным. Это мера вероятности правильной идентификации людей, не имеющих болезни, с помощью теста."
   ]
  },
  {
   "cell_type": "markdown",
   "id": "072cb2dc-ea25-40f7-ad47-fddbff05ac38",
   "metadata": {},
   "source": [
    "Z-test\n",
    "\n",
    "$ S_{z} = \\frac{\\overline{X} - m}{\\sigma / \\sqrt{n}} $"
   ]
  },
  {
   "cell_type": "markdown",
   "id": "dcbe3ca6-b011-441b-b866-f120d74435c6",
   "metadata": {},
   "source": [
    "Выборы между Z-тестом и T-тестом\n",
    "Z-тест применяется, когда размер выборки больше 30. Благодаря центральной предельной теореме, распределение средних значений выборки приближается к нормальному распределению, что делает Z-тест приемлемым.\n",
    "\n",
    "T-тест используется при размере выборки меньше 30. При малых выборках распределение средних значений может сильно отличаться от нормального, что требует использования T-распределения.\n",
    "\n",
    "Z-тест требует, чтобы стандартное отклонение генеральной совокупности было известно.\n",
    "\n",
    "T-тест не требует знания стандартного отклонения генеральной совокупности; вместо этого используется стандартное отклонение выборки.\n",
    "\n",
    "Z-тест обычно используется для определения, отличается ли среднее значение выборки от известного среднего значения генеральной совокупности, или для сравнения средних двух различных генеральных совокупностей при известных стандартных отклонениях.\n",
    "\n",
    "T-тест применяется для сравнения средних значений двух групп, когда стандартное отклонение генеральной совокупности неизвестно. Существуют различные виды T-теста которые используются в зависимости от конкретной ситуации исследования."
   ]
  }
 ],
 "metadata": {
  "kernelspec": {
   "display_name": "Python 3 (ipykernel)",
   "language": "python",
   "name": "python3"
  },
  "language_info": {
   "codemirror_mode": {
    "name": "ipython",
    "version": 3
   },
   "file_extension": ".py",
   "mimetype": "text/x-python",
   "name": "python",
   "nbconvert_exporter": "python",
   "pygments_lexer": "ipython3",
   "version": "3.12.0"
  }
 },
 "nbformat": 4,
 "nbformat_minor": 5
}
